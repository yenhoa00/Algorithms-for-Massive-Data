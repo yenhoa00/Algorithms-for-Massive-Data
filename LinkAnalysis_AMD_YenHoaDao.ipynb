{
  "cells": [
    {
      "cell_type": "markdown",
      "metadata": {
        "id": "ohFywFdLJ8CI"
      },
      "source": [
        "# **Importing and preprocessing data**"
      ]
    },
    {
      "cell_type": "code",
      "execution_count": 2,
      "metadata": {
        "colab": {
          "base_uri": "https://localhost:8080/"
        },
        "id": "ToVOEPrEw9PN",
        "outputId": "8827c373-c4d5-41cc-d423-36817a6e75e4"
      },
      "outputs": [
        {
          "output_type": "stream",
          "name": "stdout",
          "text": [
            "Collecting pyspark\n",
            "  Downloading pyspark-3.5.0.tar.gz (316.9 MB)\n",
            "\u001b[2K     \u001b[90m━━━━━━━━━━━━━━━━━━━━━━━━━━━━━━━━━━━━━━━━\u001b[0m \u001b[32m316.9/316.9 MB\u001b[0m \u001b[31m3.8 MB/s\u001b[0m eta \u001b[36m0:00:00\u001b[0m\n",
            "\u001b[?25h  Preparing metadata (setup.py) ... \u001b[?25l\u001b[?25hdone\n",
            "Requirement already satisfied: py4j==0.10.9.7 in /usr/local/lib/python3.10/dist-packages (from pyspark) (0.10.9.7)\n",
            "Building wheels for collected packages: pyspark\n",
            "  Building wheel for pyspark (setup.py) ... \u001b[?25l\u001b[?25hdone\n",
            "  Created wheel for pyspark: filename=pyspark-3.5.0-py2.py3-none-any.whl size=317425344 sha256=655b7daa5087553d431bb2389db4ca28c5b2f414eca7013c813ea33113973a2b\n",
            "  Stored in directory: /root/.cache/pip/wheels/41/4e/10/c2cf2467f71c678cfc8a6b9ac9241e5e44a01940da8fbb17fc\n",
            "Successfully built pyspark\n",
            "Installing collected packages: pyspark\n",
            "Successfully installed pyspark-3.5.0\n",
            "Collecting findspark\n",
            "  Downloading findspark-2.0.1-py2.py3-none-any.whl (4.4 kB)\n",
            "Installing collected packages: findspark\n",
            "Successfully installed findspark-2.0.1\n"
          ]
        }
      ],
      "source": [
        "import os\n",
        "import csv\n",
        "!pip install pyspark\n",
        "!pip install findspark\n",
        "from pyspark import SparkContext\n",
        "from pyspark.sql import SparkSession\n",
        "from pyspark.sql import functions as F\n",
        "spark = SparkSession.builder.master(\"local[*]\").getOrCreate()\n",
        "spark = SparkSession.builder.appName(\"AmazonBabyReview\").getOrCreate()\n",
        "from pyspark.context import SparkContext\n",
        "sc = SparkContext.getOrCreate()\n",
        "from pyspark.sql.functions import explode\n",
        "from pyspark.sql.types import ArrayType, StructType, StructField, StringType\n",
        "from pyspark.sql.functions import lit, collect_set, col, expr, collect_list, countDistinct, count, sum\n",
        "\n"
      ]
    },
    {
      "cell_type": "code",
      "execution_count": 3,
      "metadata": {
        "colab": {
          "base_uri": "https://localhost:8080/"
        },
        "id": "Ziw1U_X9yvnL",
        "outputId": "279b9db8-617c-4486-f04d-82dc89d3e8a9"
      },
      "outputs": [
        {
          "output_type": "stream",
          "name": "stdout",
          "text": [
            "Downloading amazon-us-customer-reviews-dataset.zip to /content\n",
            "100% 20.9G/21.0G [03:17<00:00, 32.6MB/s]\n",
            "100% 21.0G/21.0G [03:18<00:00, 114MB/s] \n"
          ]
        }
      ],
      "source": [
        "os.environ['KAGGLE_USERNAME'] = \"hoadao12\"\n",
        "os.environ['KAGGLE_KEY'] = \"2c070edb8c2c2b2c75c72de73ed5c781\"\n",
        "!kaggle datasets download -d cynthiarempel/amazon-us-customer-reviews-dataset"
      ]
    },
    {
      "cell_type": "code",
      "execution_count": 4,
      "metadata": {
        "colab": {
          "base_uri": "https://localhost:8080/"
        },
        "id": "-18xn0n7FpXQ",
        "outputId": "fb322862-021e-45b0-e7fe-c989091d1476"
      },
      "outputs": [
        {
          "output_type": "stream",
          "name": "stdout",
          "text": [
            "Total rows: 1749190\n"
          ]
        }
      ],
      "source": [
        "import pandas as pd\n",
        "import zipfile\n",
        "import numpy as np\n",
        "\n",
        "with zipfile.ZipFile('/content/amazon-us-customer-reviews-dataset.zip', 'r') as zip_ref:\n",
        "    with zip_ref.open('amazon_reviews_us_Baby_v1_00.tsv') as file:\n",
        "        selected_columns = ['customer_id', 'review_id', 'product_id', 'product_title']\n",
        "        df = pd.read_csv(file, delimiter='\\t', usecols=selected_columns)\n",
        "df.head()\n",
        "num_rows = df.shape[0]\n",
        "print(\"Total rows:\",num_rows)"
      ]
    },
    {
      "cell_type": "code",
      "source": [
        "total_init_rows = df.shape[0]\n",
        "df = df.drop_duplicates()\n",
        "no_duplicates_rows = df.shape[0]\n",
        "customerid_counts = df['customer_id'].value_counts()\n",
        "valid_customerid = customerid_counts[customerid_counts >= 2].index.tolist()\n",
        "newdf = df[df['customer_id'].isin(valid_customerid)]\n",
        "rows = newdf.shape[0]\n",
        "print(\"Total new rows:\",rows)\n",
        "print(\"Dropped the\", round(1-rows/total_init_rows, 4)*100, \"% of the inital rows (\", total_init_rows,\")\")\n",
        "print(\" - the\", round(1-no_duplicates_rows/total_init_rows, 4)*100, \"% are duplicates\")\n",
        "print(\" - the\", round((no_duplicates_rows - rows)/total_init_rows, 4)*100, \"% of customers with one review\")\n",
        "newdf.head()"
      ],
      "metadata": {
        "id": "j3AcowZiAT2W",
        "colab": {
          "base_uri": "https://localhost:8080/",
          "height": 278
        },
        "outputId": "d9ffa313-298d-4395-aa12-9f353dcab0ef"
      },
      "execution_count": 5,
      "outputs": [
        {
          "output_type": "stream",
          "name": "stdout",
          "text": [
            "Total new rows: 1070716\n",
            "Dropped the 38.79 % of the inital rows ( 1749190 )\n",
            " - the 0.0 % are duplicates\n",
            " - the 38.79 % of customers with one review\n"
          ]
        },
        {
          "output_type": "execute_result",
          "data": {
            "text/plain": [
              "   customer_id       review_id  product_id  \\\n",
              "0      9970739   R8EWA1OFT84NX  B00GSP5D94   \n",
              "1     23538442  R2JWY4YRQD4FOP  B00YYDDZGU   \n",
              "2      8273344   RL5ESX231LZ0B  B00BUBNZC8   \n",
              "3     24557753   RRMS9ZWJ2KD08  B00AWLZFTS   \n",
              "4     46263340  R14I3ZG5E6S7YM  B00KM60D3Q   \n",
              "\n",
              "                                       product_title  \n",
              "0  Summer Infant SwaddleMe Adjustable Infant Wrap...  \n",
              "1  Pacifier Clip Girl (3 Pack) Ziggy Baby 2-Sided...  \n",
              "2        Udder Covers - Breast Feeding Nursing Cover  \n",
              "3                 Gerber Graduates Fun Pack Utensils  \n",
              "4  Summer Infant Ultra Sight Pan/Scan/Zoom Video ...  "
            ],
            "text/html": [
              "\n",
              "  <div id=\"df-2f1ea5e6-982d-43fb-853e-9445dad41d3f\" class=\"colab-df-container\">\n",
              "    <div>\n",
              "<style scoped>\n",
              "    .dataframe tbody tr th:only-of-type {\n",
              "        vertical-align: middle;\n",
              "    }\n",
              "\n",
              "    .dataframe tbody tr th {\n",
              "        vertical-align: top;\n",
              "    }\n",
              "\n",
              "    .dataframe thead th {\n",
              "        text-align: right;\n",
              "    }\n",
              "</style>\n",
              "<table border=\"1\" class=\"dataframe\">\n",
              "  <thead>\n",
              "    <tr style=\"text-align: right;\">\n",
              "      <th></th>\n",
              "      <th>customer_id</th>\n",
              "      <th>review_id</th>\n",
              "      <th>product_id</th>\n",
              "      <th>product_title</th>\n",
              "    </tr>\n",
              "  </thead>\n",
              "  <tbody>\n",
              "    <tr>\n",
              "      <th>0</th>\n",
              "      <td>9970739</td>\n",
              "      <td>R8EWA1OFT84NX</td>\n",
              "      <td>B00GSP5D94</td>\n",
              "      <td>Summer Infant SwaddleMe Adjustable Infant Wrap...</td>\n",
              "    </tr>\n",
              "    <tr>\n",
              "      <th>1</th>\n",
              "      <td>23538442</td>\n",
              "      <td>R2JWY4YRQD4FOP</td>\n",
              "      <td>B00YYDDZGU</td>\n",
              "      <td>Pacifier Clip Girl (3 Pack) Ziggy Baby 2-Sided...</td>\n",
              "    </tr>\n",
              "    <tr>\n",
              "      <th>2</th>\n",
              "      <td>8273344</td>\n",
              "      <td>RL5ESX231LZ0B</td>\n",
              "      <td>B00BUBNZC8</td>\n",
              "      <td>Udder Covers - Breast Feeding Nursing Cover</td>\n",
              "    </tr>\n",
              "    <tr>\n",
              "      <th>3</th>\n",
              "      <td>24557753</td>\n",
              "      <td>RRMS9ZWJ2KD08</td>\n",
              "      <td>B00AWLZFTS</td>\n",
              "      <td>Gerber Graduates Fun Pack Utensils</td>\n",
              "    </tr>\n",
              "    <tr>\n",
              "      <th>4</th>\n",
              "      <td>46263340</td>\n",
              "      <td>R14I3ZG5E6S7YM</td>\n",
              "      <td>B00KM60D3Q</td>\n",
              "      <td>Summer Infant Ultra Sight Pan/Scan/Zoom Video ...</td>\n",
              "    </tr>\n",
              "  </tbody>\n",
              "</table>\n",
              "</div>\n",
              "    <div class=\"colab-df-buttons\">\n",
              "\n",
              "  <div class=\"colab-df-container\">\n",
              "    <button class=\"colab-df-convert\" onclick=\"convertToInteractive('df-2f1ea5e6-982d-43fb-853e-9445dad41d3f')\"\n",
              "            title=\"Convert this dataframe to an interactive table.\"\n",
              "            style=\"display:none;\">\n",
              "\n",
              "  <svg xmlns=\"http://www.w3.org/2000/svg\" height=\"24px\" viewBox=\"0 -960 960 960\">\n",
              "    <path d=\"M120-120v-720h720v720H120Zm60-500h600v-160H180v160Zm220 220h160v-160H400v160Zm0 220h160v-160H400v160ZM180-400h160v-160H180v160Zm440 0h160v-160H620v160ZM180-180h160v-160H180v160Zm440 0h160v-160H620v160Z\"/>\n",
              "  </svg>\n",
              "    </button>\n",
              "\n",
              "  <style>\n",
              "    .colab-df-container {\n",
              "      display:flex;\n",
              "      gap: 12px;\n",
              "    }\n",
              "\n",
              "    .colab-df-convert {\n",
              "      background-color: #E8F0FE;\n",
              "      border: none;\n",
              "      border-radius: 50%;\n",
              "      cursor: pointer;\n",
              "      display: none;\n",
              "      fill: #1967D2;\n",
              "      height: 32px;\n",
              "      padding: 0 0 0 0;\n",
              "      width: 32px;\n",
              "    }\n",
              "\n",
              "    .colab-df-convert:hover {\n",
              "      background-color: #E2EBFA;\n",
              "      box-shadow: 0px 1px 2px rgba(60, 64, 67, 0.3), 0px 1px 3px 1px rgba(60, 64, 67, 0.15);\n",
              "      fill: #174EA6;\n",
              "    }\n",
              "\n",
              "    .colab-df-buttons div {\n",
              "      margin-bottom: 4px;\n",
              "    }\n",
              "\n",
              "    [theme=dark] .colab-df-convert {\n",
              "      background-color: #3B4455;\n",
              "      fill: #D2E3FC;\n",
              "    }\n",
              "\n",
              "    [theme=dark] .colab-df-convert:hover {\n",
              "      background-color: #434B5C;\n",
              "      box-shadow: 0px 1px 3px 1px rgba(0, 0, 0, 0.15);\n",
              "      filter: drop-shadow(0px 1px 2px rgba(0, 0, 0, 0.3));\n",
              "      fill: #FFFFFF;\n",
              "    }\n",
              "  </style>\n",
              "\n",
              "    <script>\n",
              "      const buttonEl =\n",
              "        document.querySelector('#df-2f1ea5e6-982d-43fb-853e-9445dad41d3f button.colab-df-convert');\n",
              "      buttonEl.style.display =\n",
              "        google.colab.kernel.accessAllowed ? 'block' : 'none';\n",
              "\n",
              "      async function convertToInteractive(key) {\n",
              "        const element = document.querySelector('#df-2f1ea5e6-982d-43fb-853e-9445dad41d3f');\n",
              "        const dataTable =\n",
              "          await google.colab.kernel.invokeFunction('convertToInteractive',\n",
              "                                                    [key], {});\n",
              "        if (!dataTable) return;\n",
              "\n",
              "        const docLinkHtml = 'Like what you see? Visit the ' +\n",
              "          '<a target=\"_blank\" href=https://colab.research.google.com/notebooks/data_table.ipynb>data table notebook</a>'\n",
              "          + ' to learn more about interactive tables.';\n",
              "        element.innerHTML = '';\n",
              "        dataTable['output_type'] = 'display_data';\n",
              "        await google.colab.output.renderOutput(dataTable, element);\n",
              "        const docLink = document.createElement('div');\n",
              "        docLink.innerHTML = docLinkHtml;\n",
              "        element.appendChild(docLink);\n",
              "      }\n",
              "    </script>\n",
              "  </div>\n",
              "\n",
              "\n",
              "<div id=\"df-0fc2cdc2-3510-41bf-b14c-bfe26aa20ccf\">\n",
              "  <button class=\"colab-df-quickchart\" onclick=\"quickchart('df-0fc2cdc2-3510-41bf-b14c-bfe26aa20ccf')\"\n",
              "            title=\"Suggest charts.\"\n",
              "            style=\"display:none;\">\n",
              "\n",
              "<svg xmlns=\"http://www.w3.org/2000/svg\" height=\"24px\"viewBox=\"0 0 24 24\"\n",
              "     width=\"24px\">\n",
              "    <g>\n",
              "        <path d=\"M19 3H5c-1.1 0-2 .9-2 2v14c0 1.1.9 2 2 2h14c1.1 0 2-.9 2-2V5c0-1.1-.9-2-2-2zM9 17H7v-7h2v7zm4 0h-2V7h2v10zm4 0h-2v-4h2v4z\"/>\n",
              "    </g>\n",
              "</svg>\n",
              "  </button>\n",
              "\n",
              "<style>\n",
              "  .colab-df-quickchart {\n",
              "      --bg-color: #E8F0FE;\n",
              "      --fill-color: #1967D2;\n",
              "      --hover-bg-color: #E2EBFA;\n",
              "      --hover-fill-color: #174EA6;\n",
              "      --disabled-fill-color: #AAA;\n",
              "      --disabled-bg-color: #DDD;\n",
              "  }\n",
              "\n",
              "  [theme=dark] .colab-df-quickchart {\n",
              "      --bg-color: #3B4455;\n",
              "      --fill-color: #D2E3FC;\n",
              "      --hover-bg-color: #434B5C;\n",
              "      --hover-fill-color: #FFFFFF;\n",
              "      --disabled-bg-color: #3B4455;\n",
              "      --disabled-fill-color: #666;\n",
              "  }\n",
              "\n",
              "  .colab-df-quickchart {\n",
              "    background-color: var(--bg-color);\n",
              "    border: none;\n",
              "    border-radius: 50%;\n",
              "    cursor: pointer;\n",
              "    display: none;\n",
              "    fill: var(--fill-color);\n",
              "    height: 32px;\n",
              "    padding: 0;\n",
              "    width: 32px;\n",
              "  }\n",
              "\n",
              "  .colab-df-quickchart:hover {\n",
              "    background-color: var(--hover-bg-color);\n",
              "    box-shadow: 0 1px 2px rgba(60, 64, 67, 0.3), 0 1px 3px 1px rgba(60, 64, 67, 0.15);\n",
              "    fill: var(--button-hover-fill-color);\n",
              "  }\n",
              "\n",
              "  .colab-df-quickchart-complete:disabled,\n",
              "  .colab-df-quickchart-complete:disabled:hover {\n",
              "    background-color: var(--disabled-bg-color);\n",
              "    fill: var(--disabled-fill-color);\n",
              "    box-shadow: none;\n",
              "  }\n",
              "\n",
              "  .colab-df-spinner {\n",
              "    border: 2px solid var(--fill-color);\n",
              "    border-color: transparent;\n",
              "    border-bottom-color: var(--fill-color);\n",
              "    animation:\n",
              "      spin 1s steps(1) infinite;\n",
              "  }\n",
              "\n",
              "  @keyframes spin {\n",
              "    0% {\n",
              "      border-color: transparent;\n",
              "      border-bottom-color: var(--fill-color);\n",
              "      border-left-color: var(--fill-color);\n",
              "    }\n",
              "    20% {\n",
              "      border-color: transparent;\n",
              "      border-left-color: var(--fill-color);\n",
              "      border-top-color: var(--fill-color);\n",
              "    }\n",
              "    30% {\n",
              "      border-color: transparent;\n",
              "      border-left-color: var(--fill-color);\n",
              "      border-top-color: var(--fill-color);\n",
              "      border-right-color: var(--fill-color);\n",
              "    }\n",
              "    40% {\n",
              "      border-color: transparent;\n",
              "      border-right-color: var(--fill-color);\n",
              "      border-top-color: var(--fill-color);\n",
              "    }\n",
              "    60% {\n",
              "      border-color: transparent;\n",
              "      border-right-color: var(--fill-color);\n",
              "    }\n",
              "    80% {\n",
              "      border-color: transparent;\n",
              "      border-right-color: var(--fill-color);\n",
              "      border-bottom-color: var(--fill-color);\n",
              "    }\n",
              "    90% {\n",
              "      border-color: transparent;\n",
              "      border-bottom-color: var(--fill-color);\n",
              "    }\n",
              "  }\n",
              "</style>\n",
              "\n",
              "  <script>\n",
              "    async function quickchart(key) {\n",
              "      const quickchartButtonEl =\n",
              "        document.querySelector('#' + key + ' button');\n",
              "      quickchartButtonEl.disabled = true;  // To prevent multiple clicks.\n",
              "      quickchartButtonEl.classList.add('colab-df-spinner');\n",
              "      try {\n",
              "        const charts = await google.colab.kernel.invokeFunction(\n",
              "            'suggestCharts', [key], {});\n",
              "      } catch (error) {\n",
              "        console.error('Error during call to suggestCharts:', error);\n",
              "      }\n",
              "      quickchartButtonEl.classList.remove('colab-df-spinner');\n",
              "      quickchartButtonEl.classList.add('colab-df-quickchart-complete');\n",
              "    }\n",
              "    (() => {\n",
              "      let quickchartButtonEl =\n",
              "        document.querySelector('#df-0fc2cdc2-3510-41bf-b14c-bfe26aa20ccf button');\n",
              "      quickchartButtonEl.style.display =\n",
              "        google.colab.kernel.accessAllowed ? 'block' : 'none';\n",
              "    })();\n",
              "  </script>\n",
              "</div>\n",
              "    </div>\n",
              "  </div>\n"
            ]
          },
          "metadata": {},
          "execution_count": 5
        }
      ]
    },
    {
      "cell_type": "code",
      "execution_count": 6,
      "metadata": {
        "colab": {
          "base_uri": "https://localhost:8080/"
        },
        "id": "r9N3Q1CYGz9x",
        "outputId": "d0a01c17-190a-4b41-abfa-eab89a7d169a"
      },
      "outputs": [
        {
          "output_type": "stream",
          "name": "stdout",
          "text": [
            "+-----------+--------------+----------+--------------------+\n",
            "|customer_id|     review_id|product_id|       product_title|\n",
            "+-----------+--------------+----------+--------------------+\n",
            "|    9970739| R8EWA1OFT84NX|B00GSP5D94|Summer Infant Swa...|\n",
            "|   23538442|R2JWY4YRQD4FOP|B00YYDDZGU|Pacifier Clip Gir...|\n",
            "|    8273344| RL5ESX231LZ0B|B00BUBNZC8|Udder Covers - Br...|\n",
            "|   24557753| RRMS9ZWJ2KD08|B00AWLZFTS|Gerber Graduates ...|\n",
            "|   46263340|R14I3ZG5E6S7YM|B00KM60D3Q|Summer Infant Ult...|\n",
            "|   24557753|R13EPSFP5DODN5|B00PQMRZG4|Summer Infant Kee...|\n",
            "|   33520065| R6RBP4HTE67SY|B005DL5970|Natural HE Powder...|\n",
            "|   20241560|R15B3EU40RSU2W|B00C6D2WL4|Dr. Brown's Bottl...|\n",
            "|   52570308|R2C99DJEO4RZ4K|B00RLYG2S2|Abiie Beyond Wood...|\n",
            "|    9287389| REV51EW323H8W|B010UX9T5I|Lovinglove Baby G...|\n",
            "+-----------+--------------+----------+--------------------+\n",
            "only showing top 10 rows\n",
            "\n"
          ]
        }
      ],
      "source": [
        "sdf = spark.createDataFrame(newdf)\n",
        "sdf.show(10)"
      ]
    },
    {
      "cell_type": "markdown",
      "metadata": {
        "id": "YMZpm4gnKS8o"
      },
      "source": [
        "## **Link Analysis**"
      ]
    },
    {
      "cell_type": "markdown",
      "metadata": {
        "id": "37kpueopKdUb"
      },
      "source": [
        "\n",
        "\n",
        "1.   Construct links\n",
        "2.   Transitional Probabilities\n",
        "3.   Calculation\n",
        "\n"
      ]
    },
    {
      "cell_type": "code",
      "execution_count": 7,
      "metadata": {
        "id": "W0rA57TxJ4fh",
        "colab": {
          "base_uri": "https://localhost:8080/"
        },
        "outputId": "5837032d-d4f2-49fb-9ac7-854dd12dadb5"
      },
      "outputs": [
        {
          "output_type": "stream",
          "name": "stdout",
          "text": [
            "+-----------+------------------------------------------------------------------------------------------------+\n",
            "|customer_id|products                                                                                        |\n",
            "+-----------+------------------------------------------------------------------------------------------------+\n",
            "|10227      |[B001MUVX8U, B001DDMFK6, B000YZ6ZHS, B001KZH69M]                                                |\n",
            "|11170      |[B00D43C134, B00E4HUFTG, B00E1CI2MG]                                                            |\n",
            "|11316      |[B004GIGUW4, B004GIQB28]                                                                        |\n",
            "|11937      |[B00INK71U6, B001MS82HM]                                                                        |\n",
            "|11942      |[B00KCNJAMY, B00KCNJ1BY, B00K92MWE6]                                                            |\n",
            "|12280      |[B000FI1YKW, B005IWM7V0, B00H8MRBKA]                                                            |\n",
            "|12349      |[B009K0ZFN8, B009QXGK60, B00H5OI9XO]                                                            |\n",
            "|13624      |[B00477ND0Q, B000M4C8EK]                                                                        |\n",
            "|13638      |[B005PK1CCU, B00KB87ZZY]                                                                        |\n",
            "|14451      |[B00004TFLB, B000GUZC2A, B0070U6R9Q, B00LZKBXK0, B000O3GCFU]                                    |\n",
            "|15110      |[B004BU3CDW, B0032G9E0G, B007EHZ0NO, B00ECHYTBI]                                                |\n",
            "|15601      |[B000COY136, B004PSAX28, B00C2KW3FG]                                                            |\n",
            "|15776      |[B006ZBREJ8, B007Q4ED7E, B007BI8GEQ]                                                            |\n",
            "|15945      |[B004YPNXGK, B007CFKEVG]                                                                        |\n",
            "|16092      |[B00J0YTG3O, B007E2E706, B003KYSSNE]                                                            |\n",
            "|16146      |[B0084EQLM0, B00474CUTO]                                                                        |\n",
            "|17155      |[B00292BF38, B001AMK6G0]                                                                        |\n",
            "|17614      |[B0051POK1E, B004RVGPUC]                                                                        |\n",
            "|17748      |[B00APIN7U2, B00D4XZO2E, B00H2COJ2Y, B007A3MO5E, B003HS5JLW, B004XFEYT6]                        |\n",
            "|17818      |[B00913CZWI, B007HNUWTC, B008VWPFQ8, B004OR1DNI, B004OR1DO2, B0041RRX6M, B002MN3JY2, B004UOTWJ2]|\n",
            "+-----------+------------------------------------------------------------------------------------------------+\n",
            "only showing top 20 rows\n",
            "\n"
          ]
        }
      ],
      "source": [
        "# Group the product IDs by customer ID\n",
        "grouped_df = sdf.groupBy(\"customer_id\").agg(F.collect_list(\"product_id\").alias(\"products\"))\n",
        "grouped_df.show(truncate=False)\n"
      ]
    },
    {
      "cell_type": "code",
      "execution_count": 8,
      "metadata": {
        "id": "pLehclLYRIN-"
      },
      "outputs": [],
      "source": [
        "# Explode the list of products\n",
        "exploded_df = grouped_df.select(\"customer_id\", explode(\"products\").alias(\"product_id\"))\n",
        "links_df = exploded_df.alias(\"a\").join(exploded_df.alias(\"b\"), \"customer_id\").filter(\"a.product_id <> b.product_id\").selectExpr(\n",
        "    \"a.product_id as product_a\",\"b.product_id as product_b\")\n"
      ]
    },
    {
      "cell_type": "code",
      "execution_count": 9,
      "metadata": {
        "colab": {
          "base_uri": "https://localhost:8080/"
        },
        "id": "S_7lYV11ftnU",
        "outputId": "37cff29d-47ba-4d59-f842-0298b7d1aaa0"
      },
      "outputs": [
        {
          "output_type": "stream",
          "name": "stdout",
          "text": [
            "+----------+----------+\n",
            "| product_a| product_b|\n",
            "+----------+----------+\n",
            "|B001MUVX8U|B001DDMFK6|\n",
            "|B001MUVX8U|B000YZ6ZHS|\n",
            "|B001MUVX8U|B001KZH69M|\n",
            "|B001DDMFK6|B001MUVX8U|\n",
            "|B001DDMFK6|B000YZ6ZHS|\n",
            "|B001DDMFK6|B001KZH69M|\n",
            "|B000YZ6ZHS|B001MUVX8U|\n",
            "|B000YZ6ZHS|B001DDMFK6|\n",
            "|B000YZ6ZHS|B001KZH69M|\n",
            "|B001KZH69M|B001MUVX8U|\n",
            "+----------+----------+\n",
            "only showing top 10 rows\n",
            "\n"
          ]
        }
      ],
      "source": [
        "links_df.show(10)"
      ]
    },
    {
      "cell_type": "code",
      "execution_count": 10,
      "metadata": {
        "id": "18swH10OS5vY",
        "colab": {
          "base_uri": "https://localhost:8080/"
        },
        "outputId": "11b92a6a-8d46-4c7b-d763-862687aa232b"
      },
      "outputs": [
        {
          "output_type": "stream",
          "name": "stdout",
          "text": [
            "+----------+----------+---------------+--------------------+\n",
            "| product_a| product_b|links_product_a|         probability|\n",
            "+----------+----------+---------------+--------------------+\n",
            "|B0006HBS1M|B004EWGDCE|           6653|1.503081316699233...|\n",
            "|B007BEHSDU|B0034XQXB0|           1769|5.652911249293386E-4|\n",
            "|B007BEHSDU|B00HF3Y100|           1769|5.652911249293386E-4|\n",
            "|B007BEHSDU|B003LNU8PK|           1769|5.652911249293386E-4|\n",
            "|B011J5TUUU|B0126D8J9M|             28| 0.03571428571428571|\n",
            "|B008BRVTLI|B00R9QNCQW|             15| 0.06666666666666667|\n",
            "|B00LFB616A|B00Q29MYN4|             27|0.037037037037037035|\n",
            "|B00LFB616A|B00Q29MYOS|             27|0.037037037037037035|\n",
            "|B004YL3332|B00171WXII|            735|0.001360544217687...|\n",
            "|B004YL3332|B0071D1AKI|            735|0.001360544217687...|\n",
            "|B004YL3332|B0034G60JM|            735|0.001360544217687...|\n",
            "|B00078ZHPS|B00EPFLHVM|           1185|8.438818565400844E-4|\n",
            "|B00078ZHPS|B0038JDUBQ|           1185|8.438818565400844E-4|\n",
            "|B00078ZHPS|B00IX6PEB8|           1185|8.438818565400844E-4|\n",
            "|B00QZ3UNIU|B010RWGMOI|            104|0.009615384615384616|\n",
            "|B00QZ3UNIU|B00XB50YL6|            104|0.009615384615384616|\n",
            "|B0006HBS1M|B00G34TL2U|           6653|1.503081316699233...|\n",
            "|B0006HBS1M|B00DXXVJRO|           6653|1.503081316699233...|\n",
            "|B0006HBS1M|B00DB5F114|           6653|1.503081316699233...|\n",
            "|B0006HBS1M|B007PDHPZ8|           6653|1.503081316699233...|\n",
            "+----------+----------+---------------+--------------------+\n",
            "only showing top 20 rows\n",
            "\n"
          ]
        }
      ],
      "source": [
        "# Count links of each 'product_a'\n",
        "count_product_a= links_df.groupBy('product_a').agg(count(\"*\").alias(\"links_product_a\"))\n",
        "# Calculate the probability of being at each product a to next being at each of the other pages\n",
        "transitional_prob = links_df.join(count_product_a, 'product_a').withColumn(\"probability\", 1 / col('links_product_a'))\n",
        "transitional_prob.show(20)"
      ]
    },
    {
      "cell_type": "code",
      "execution_count": 11,
      "metadata": {
        "id": "NVudpxFOmsk7",
        "colab": {
          "base_uri": "https://localhost:8080/"
        },
        "outputId": "f5c605fa-10c4-4b4b-b651-cb9512ccbd2e"
      },
      "outputs": [
        {
          "output_type": "stream",
          "name": "stdout",
          "text": [
            "1.000000000000003\n"
          ]
        }
      ],
      "source": [
        "#check sum transitional probabilities of random product\n",
        "check_sum = transitional_prob.filter(col(\"product_a\") == \"B00G34TL2U\").agg({\"probability\": \"sum\"}).collect()[0][0]\n",
        "print(check_sum)"
      ]
    },
    {
      "cell_type": "code",
      "execution_count": 12,
      "metadata": {
        "colab": {
          "base_uri": "https://localhost:8080/"
        },
        "id": "6Yfo5arKAbwV",
        "outputId": "f4d011f5-0acb-4de7-fd8c-8a8a1816bad1"
      },
      "outputs": [
        {
          "output_type": "stream",
          "name": "stdout",
          "text": [
            "+----------+--------------------+\n",
            "|   product|           page_rank|\n",
            "+----------+--------------------+\n",
            "|B0006HBS1M|8.250620859219656E-6|\n",
            "|B007BEHSDU|8.250620859219656E-6|\n",
            "|B011J5TUUU|8.250620859219656E-6|\n",
            "|B008BRVTLI|8.250620859219656E-6|\n",
            "|B00LFB616A|8.250620859219656E-6|\n",
            "|B004YL3332|8.250620859219656E-6|\n",
            "|B00078ZHPS|8.250620859219656E-6|\n",
            "|B00QZ3UNIU|8.250620859219656E-6|\n",
            "|B00U0DFCGO|8.250620859219656E-6|\n",
            "|B00E3RKC36|8.250620859219656E-6|\n",
            "|B00PF84ANA|8.250620859219656E-6|\n",
            "|B00JPSU8W8|8.250620859219656E-6|\n",
            "|B00MUVQS12|8.250620859219656E-6|\n",
            "|B00YTXSTES|8.250620859219656E-6|\n",
            "|B00O3GVSZI|8.250620859219656E-6|\n",
            "|B00BEVSRU4|8.250620859219656E-6|\n",
            "|B00PF84ATO|8.250620859219656E-6|\n",
            "|B00MAGCCLC|8.250620859219656E-6|\n",
            "|B00L8JIO0K|8.250620859219656E-6|\n",
            "|B006STJTR2|8.250620859219656E-6|\n",
            "+----------+--------------------+\n",
            "only showing top 20 rows\n",
            "\n"
          ]
        }
      ],
      "source": [
        "# Calculate the distinct a\n",
        "n = transitional_prob.select(\"product_a\").distinct().count()\n",
        "\n",
        "# Initial Pagerank\n",
        "initial = [(row[\"product_a\"], 1 / n) for row in transitional_prob.select(\"product_a\").distinct().collect()]\n",
        "page_rank = spark.createDataFrame(initial, [\"product\", \"page_rank\"])\n",
        "page_rank.show()"
      ]
    },
    {
      "cell_type": "code",
      "execution_count": 13,
      "metadata": {
        "id": "1WULjZbj5uMu",
        "colab": {
          "base_uri": "https://localhost:8080/"
        },
        "outputId": "50bbe335-598e-47d7-dc86-c64945eab464"
      },
      "outputs": [
        {
          "output_type": "stream",
          "name": "stdout",
          "text": [
            "Iteration: 1, Total_distance: 9.36949534295732e-05\n",
            "Iteration: 2, Total_distance: 7.154753537913271e-06\n",
            "Iteration: 3, Total_distance: 7.041879013819292e-07\n",
            "Iteration: 4, Total_distance: 2.0250065799734934e-07\n",
            "Iteration: 5, Total_distance: 6.109819985532666e-08\n",
            "Iteration: 6, Total_distance: 2.552813834008041e-08\n",
            "Iteration: 7, Total_distance: 1.232612187744269e-08\n",
            "Iteration: 8, Total_distance: 7.647663478632765e-09\n",
            "Iteration: 9, Total_distance: 5.394293113870115e-09\n",
            "Iteration: 10, Total_distance: 4.500797487443926e-09\n"
          ]
        }
      ],
      "source": [
        "iteration = 0\n",
        "iterations = 20\n",
        "tolerance = 5e-9\n",
        "distance = float('inf')\n",
        "\n",
        "while iteration < iterations and distance >= tolerance:\n",
        "    new_pagerank = (transitional_prob.join(page_rank, transitional_prob.product_a == page_rank.product, \"inner\")\n",
        "                      .select(\"product_b\", (F.col(\"page_rank\") * F.col(\"probability\")).alias(\"new_pagerank\"))\n",
        "                      .groupBy(\"product_b\")\n",
        "                      .agg(F.sum(\"new_pagerank\").alias(\"new_pagerank\")))\n",
        "\n",
        "    #Squared Euclidean distance\n",
        "    distance = (new_pagerank\n",
        "              .join(page_rank, new_pagerank.product_b == page_rank.product)\n",
        "              .withColumn('distance', F.abs(F.col(\"new_pagerank\") - col(\"page_rank\")))\n",
        "              .agg(F.sum(F.pow('distance', 2)).alias('total_distance'))\n",
        "              .head()['total_distance'])\n",
        "\n",
        "    print(f\"Iteration: {iteration+1}, Total_distance: {distance}\")\n",
        "\n",
        "    page_rank = new_pagerank.withColumnRenamed('new_pagerank', 'page_rank').withColumnRenamed('product_b', 'product')\n",
        "\n",
        "    iteration += 1\n"
      ]
    },
    {
      "cell_type": "code",
      "execution_count": 15,
      "metadata": {
        "id": "PLDky_lVt2GL",
        "colab": {
          "base_uri": "https://localhost:8080/"
        },
        "outputId": "c5ed4b3e-9d85-4073-fd39-fd6daaafa309"
      },
      "outputs": [
        {
          "output_type": "stream",
          "name": "stdout",
          "text": [
            "+----------+--------------------+\n",
            "|   product|           page_rank|\n",
            "+----------+--------------------+\n",
            "|B00699FWD6|2.331197611075329E-6|\n",
            "|B003TJ9PDC|1.753911420481256E-5|\n",
            "|B00JLI73ZM|3.807141442074022...|\n",
            "|B00O3GVSZI|5.114570327617026E-5|\n",
            "|B0013HI718|3.424252421109331E-6|\n",
            "|B001QXCF1C|1.633640633632889...|\n",
            "|B00AHVR3ES|2.616634045486809...|\n",
            "|B00E9RMHD8|1.715410809635548...|\n",
            "|B00G6R6KVO|6.891847679417847E-7|\n",
            "|B0006HBS1M|9.138603552230531E-4|\n",
            "|B004V23YJM|1.137411902645144...|\n",
            "|B00U0DD6EO|2.063240206200156...|\n",
            "|B007BEHSDU|2.424804641068821...|\n",
            "|B00G3XR8PS|9.568021643431567E-5|\n",
            "|B00FP1XKVK|5.756984433978033...|\n",
            "|B004GCJML6|1.011628999485941...|\n",
            "|B0035EQKF2|2.843061383011291E-6|\n",
            "|B004EL0G9Q|7.548233381351409E-6|\n",
            "|B00F7PXANW|3.881080727479839E-5|\n",
            "|B003HAI7CI|4.128463486203096...|\n",
            "+----------+--------------------+\n",
            "only showing top 20 rows\n",
            "\n"
          ]
        }
      ],
      "source": [
        "page_rank.show()"
      ]
    },
    {
      "cell_type": "code",
      "execution_count": 17,
      "metadata": {
        "id": "wocZsCLbmFwE",
        "colab": {
          "base_uri": "https://localhost:8080/"
        },
        "outputId": "25b2523c-0d97-4b65-c151-63ad9702c91b"
      },
      "outputs": [
        {
          "output_type": "stream",
          "name": "stdout",
          "text": [
            "Top products:\n",
            "+----------+---------------------+-----------------------------------------------------+\n",
            "|product   |page_rank            |product_title                                        |\n",
            "+----------+---------------------+-----------------------------------------------------+\n",
            "|B000YDDF6O|0.002834902848013501 |Baby Einstein Take Along Tunes Musical Toy           |\n",
            "|B000IDSLOG|0.002743799720272408 |Vulli Sophie la Girafe                               |\n",
            "|B00171WXII|0.0027176925737394217|FridaBaby NoseFrida The SnotSucker Nasal Aspirator   |\n",
            "|B002QYW8LW|0.0019224379509214986|Baby Banana Toothbrush                               |\n",
            "|B009EDSWJA|0.001425089010029274 |Summer Infant 5-Piece Essentials Diaper Changing Kits|\n",
            "|B0052QYLUM|0.0013910880737661613|Infant Optics DXR-5 Portable Video Baby Monitor      |\n",
            "|B001WAJVZM|0.001328465103660608 |Skip Hop Moby Bath Spout Cover Universal Fit, Blue   |\n",
            "|B00295MQLU|0.001218435568982723 |Simple Wishes Hands Free Breastpump Bra              |\n",
            "+----------+---------------------+-----------------------------------------------------+\n",
            "\n",
            "Least products:\n",
            "+----------+---------------------+--------------------------------------------------------------------------------------------------------+\n",
            "|product   |page_rank            |product_title                                                                                           |\n",
            "+----------+---------------------+--------------------------------------------------------------------------------------------------------+\n",
            "|B00P8WLEJG|1.3217452530130463E-7|Bazzle Baby Banda Bib, Machine Washable Bandana Bib with Adjustable Snaps, 0-36 Months (Lime Green Star)|\n",
            "|B00CXVM606|1.322775242320851E-7 |Woombie Organic Cuddle Towels                                                                           |\n",
            "|B00RMKQGIQ|1.3257257182530577E-7|Disney Frozen Elsa Anna Olaf Figurine Playsets                                                          |\n",
            "|B00BH291GY|1.3257780227376137E-7|Koala Baby 4-Piece Super Soft Crib Bumper - Blue                                                        |\n",
            "|B00LNYT7VU|1.327675361055372E-7 |DwellStudio Burp Cloth                                                                                  |\n",
            "|B00GSMU1BC|1.329074503649127E-7 |JOOVY Qool Silver Single Stroller                                                                       |\n",
            "|B00IRRRCYA|1.3321527629086446E-7|Itzy Ritzy Reusable Snack Bag (tiny dancer)                                                             |\n",
            "|B001EHW2WW|1.3323145330702857E-7|Baby Angels                                                                                             |\n",
            "+----------+---------------------+--------------------------------------------------------------------------------------------------------+\n",
            "\n"
          ]
        }
      ],
      "source": [
        "#Join pagerank df with the original df\n",
        "final_df = page_rank.join(sdf, page_rank.product == sdf.product_id).select(\"product\", \"page_rank\", \"product_title\").distinct()\n",
        "\n",
        "# Show some products with details\n",
        "highest_prod = final_df.orderBy(F.desc(\"page_rank\")).limit(8)\n",
        "print(\"Top products:\")\n",
        "highest_prod.show(truncate=False)\n",
        "least_prod = final_df.orderBy(F.asc(\"page_rank\")).limit(8)\n",
        "print(\"Least products:\")\n",
        "least_prod.show(truncate=False)\n"
      ]
    }
  ],
  "metadata": {
    "colab": {
      "provenance": []
    },
    "kernelspec": {
      "display_name": "Python 3",
      "name": "python3"
    },
    "language_info": {
      "name": "python"
    },
    "accelerator": "TPU"
  },
  "nbformat": 4,
  "nbformat_minor": 0
}